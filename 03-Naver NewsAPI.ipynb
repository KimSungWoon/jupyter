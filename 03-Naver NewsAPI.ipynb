{
 "cells": [
  {
   "cell_type": "code",
   "execution_count": 18,
   "metadata": {},
   "outputs": [
    {
     "name": "stdout",
     "output_type": "stream",
     "text": [
      "API 요청 URL : https://openapi.naver.com/v1/search/news.json?query=%EC%BD%94%EB%A1%9C%EB%82%98\n",
      "Success\n"
     ]
    }
   ],
   "source": [
    "from urllib.request import Request\n",
    "from urllib.parse import quote\n",
    "import urllib\n",
    "\n",
    "#요청을 위한 id와 PW\n",
    "client_id = \"X2ViO7NXRXt4ICJdiqzJ\"\n",
    "client_secret = \"oUtvq8mO7G\"\n",
    "\n",
    "# 검색어 인코딩\n",
    "enc_text = quote(\"코로나\")\n",
    "url = \"https://openapi.naver.com/v1/search/news.json?query={}\".format(enc_text)\n",
    "print(\"API 요청 URL :\",url)\n",
    "\n",
    "#요청 생성\n",
    "req = Request(url)\n",
    "#API 접근을 위한 인증 정보를 header에 수록\n",
    "req.add_header(\"X-Naver-Client-id\",client_id)\n",
    "req.add_header(\"X-Naver-Client-Secret\",client_secret)\n",
    "\n",
    "#응답\n",
    "resp = urllib.request.urlopen(req)\n",
    "\n",
    "respcode = resp.getcode()\n",
    "\n",
    "if respcode ==200: # 성공\n",
    "    resp_body = resp.read().decode(\"utf-8\")\n",
    "    print(\"Success\")\n",
    "else: #실패\n",
    "    print(\"HTTP-Error: %d\"% respcode)\n",
    "    "
   ]
  },
  {
   "cell_type": "code",
   "execution_count": 23,
   "metadata": {},
   "outputs": [
    {
     "name": "stdout",
     "output_type": "stream",
     "text": [
      "문화재청 '세종대왕릉 제 모습 찾기' 준공식 9일 개최 - http://www.fnnews.com/news/202010061644399111\n",
      "추석때 모인 가족·서초 카페 감염 확인… “마스크 일상화” 당부 - http://news.kmib.co.kr/article/view.asp?arcid=0015080772&code=61121111&cp=nv\n",
      "오영훈 \"해외도피사범 송환율 감소\"..구멍 뚫린 경찰 수사망 - http://www.fnnews.com/news/202010061634120544\n",
      "[급등락주 짚어보기] 이수화학ㆍ나인테크 등 실적 수혜 기대감에 상한가 직행 - https://www.etoday.co.kr/news/view/1947607\n",
      "3분기 오피스빌딩 거래금액 4.5조…전분기 대비 2배 급증 - https://www.etoday.co.kr/news/view/1947595\n",
      "고흥군,'제24회 노인의 날'기념 표창패 수여식 개최 - http://www.newsworker.co.kr/news/articleView.html?idxno=87358\n",
      "트럼프 행정부, 코로나 '집단 면역' 검토?…옹호론자들 면담 - http://www.newsis.com/view/?id=NISX20201006_0001188403&cID=10101&pID=10100\n",
      "부산교육청, 교육기관 공유재산 사용요율 대폭 인하 - https://www.nocutnews.co.kr/news/5423542\n",
      "코로나19 여파로 영화 ‘더 배트맨’ 2022년으로 개봉 연기 - http://www.munhwa.com/news/view.html?no=20201006MW164213645861\n",
      "2020 논산 강경젓갈축제 ‘온택트’로…14일 랜선 개막 - http://www.munhwa.com/news/view.html?no=20201006MW16451135797\n"
     ]
    }
   ],
   "source": [
    "# 응답의 확인\n",
    "# print(resp_body)\n",
    "# json text -> json object\n",
    "import json\n",
    "from html import unescape # html 특수 문자 -> 원래 문자로\n",
    "\n",
    "json_obj = json.loads(resp_body)\n",
    "# print(\"JSON:\", json_obj, type(json_obj))\n",
    "json_items = json_obj['items']\n",
    "# print(json_items)\n",
    "import re\n",
    "def remove_tag(html):\n",
    "    \"태그 제거용 함수\"\n",
    "    \n",
    "    tag_pattern = re.compile(r\"<[^>]+>\")\n",
    "    return tag_pattern.sub('', unescape(html))\n",
    "\n",
    "news_list = []\n",
    "for item in json_items:\n",
    "    news = {\n",
    "        \"title\" : remove_tag(item['title']),\n",
    "        \"link\" : item['originallink'],\n",
    "        \"description\" : remove_tag(item['description'])\n",
    "    }\n",
    "    news_list.append(news)\n",
    "    \n",
    "for news in news_list:\n",
    "    print(\"{} - {}\".format(news['title'], news['link']))"
   ]
  },
  {
   "cell_type": "code",
   "execution_count": null,
   "metadata": {},
   "outputs": [],
   "source": []
  }
 ],
 "metadata": {
  "kernelspec": {
   "display_name": "Python 3",
   "language": "python",
   "name": "python3"
  },
  "language_info": {
   "codemirror_mode": {
    "name": "ipython",
    "version": 3
   },
   "file_extension": ".py",
   "mimetype": "text/x-python",
   "name": "python",
   "nbconvert_exporter": "python",
   "pygments_lexer": "ipython3",
   "version": "3.7.3"
  }
 },
 "nbformat": 4,
 "nbformat_minor": 4
}
