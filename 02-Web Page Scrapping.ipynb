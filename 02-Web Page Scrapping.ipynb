{
 "cells": [
  {
   "cell_type": "code",
   "execution_count": 9,
   "metadata": {},
   "outputs": [
    {
     "name": "stdout",
     "output_type": "stream",
     "text": [
      "SUCCESS\n"
     ]
    }
   ],
   "source": [
    "#urllib 임포트\n",
    "from urllib.request import urlopen\n",
    "from bs4 import BeautifulSoup\n",
    "\n",
    "# 다음넷\n",
    "req = urlopen(\"https://news.daum.net/\")\n",
    "#print(\"응답코드 :\".req.getcode())\n",
    "\n",
    "if req.getcode() == 200:\n",
    "    html = req.read()\n",
    "    html = html.decode(\"utf-8\")\n",
    "    print(\"SUCCESS\")\n",
    "else:\n",
    "    print(\"http-error\")"
   ]
  },
  {
   "cell_type": "code",
   "execution_count": 8,
   "metadata": {},
   "outputs": [
    {
     "name": "stdout",
     "output_type": "stream",
     "text": [
      "문서 제목: 홈 | 다음뉴스\n"
     ]
    }
   ],
   "source": [
    "# text -> html dom으로 변경\n",
    "soup = BeautifulSoup(html, \"html.parser\")\n",
    "#print(soup.prettify())\n",
    "#문서 정보 확인\n",
    "print(\"문서 제목:\",soup.title.text)"
   ]
  },
  {
   "cell_type": "code",
   "execution_count": null,
   "metadata": {},
   "outputs": [],
   "source": []
  }
 ],
 "metadata": {
  "kernelspec": {
   "display_name": "Python 3",
   "language": "python",
   "name": "python3"
  },
  "language_info": {
   "codemirror_mode": {
    "name": "ipython",
    "version": 3
   },
   "file_extension": ".py",
   "mimetype": "text/x-python",
   "name": "python",
   "nbconvert_exporter": "python",
   "pygments_lexer": "ipython3",
   "version": "3.7.3"
  }
 },
 "nbformat": 4,
 "nbformat_minor": 4
}
