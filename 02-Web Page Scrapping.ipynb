{
 "cells": [
  {
   "cell_type": "code",
   "execution_count": 9,
   "metadata": {},
   "outputs": [
    {
     "name": "stdout",
     "output_type": "stream",
     "text": [
      "SUCCESS\n"
     ]
    }
   ],
   "source": [
    "#urllib 임포트\n",
    "from urllib.request import urlopen\n",
    "from bs4 import BeautifulSoup\n",
    "\n",
    "# 다음넷\n",
    "req = urlopen(\"https://news.daum.net/\")\n",
    "#print(\"응답코드 :\".req.getcode())\n",
    "\n",
    "if req.getcode() == 200:\n",
    "    html = req.read()\n",
    "    html = html.decode(\"utf-8\")\n",
    "    print(\"SUCCESS\")\n",
    "else:\n",
    "    print(\"http-error\")"
   ]
  },
  {
   "cell_type": "code",
   "execution_count": 8,
   "metadata": {},
   "outputs": [
    {
     "name": "stdout",
     "output_type": "stream",
     "text": [
      "문서 제목: 홈 | 다음뉴스\n"
     ]
    }
   ],
   "source": [
    "# text -> html dom으로 변경\n",
    "soup = BeautifulSoup(html, \"html.parser\")\n",
    "#print(soup.prettify())\n",
    "#문서 정보 확인\n",
    "print(\"문서 제목:\",soup.title.text)"
   ]
  },
  {
   "cell_type": "code",
   "execution_count": 16,
   "metadata": {},
   "outputs": [
    {
     "name": "stdout",
     "output_type": "stream",
     "text": [
      "다음 뉴스 주요 기사:\n",
      "서울 확진자 15명↑..'서초구 카페·동작구 부동산회사' 추가-https://news.v.daum.net/v/20201006112351445\n",
      "\"자연도 코로나도 청정\"..한글날 연휴 끝나도 제주행 이어질듯-https://news.v.daum.net/v/20201006112253401\n",
      "\"문체부 관광상품 선정시 안전성·윤리성 검열 과정 전무\"-https://news.v.daum.net/v/20201006112252400\n",
      "국민의힘 청년위 \"유머가 유머로 받아들여지지 않아 비극적\"-https://news.v.daum.net/v/20201006112210371\n",
      "복잡해진 수싸움..발의된 법안 살펴보니-https://news.v.daum.net/v/20201006112200362\n",
      "갑자기 쌀쌀해져 몸도 화들짝 .. 제1 수칙은 '체온 유지'-https://news.v.daum.net/v/20201006112018295\n",
      "軍 \"피살 공무원 수색에 조명탄 안 썼다? 탐조등 활용해\"-https://news.v.daum.net/v/20201006111927254\n",
      "\"태양광도 하고, 농사도 짓고\"..발전시설 밑에서 벼 재배 성공-https://news.v.daum.net/v/20201006111751176\n",
      "트럼프 코로나 감염에 식당 종업원들 덩달아 격리 '불똥'-https://news.v.daum.net/v/20201006111655126\n",
      "꼼수부린 한국형 재정준칙 국회 통과도 난망-https://news.v.daum.net/v/20201006111653124\n",
      "피랍 태국 반정부활동가 누나 \"정부 못믿어..혼자 찾아나설 것\"-https://news.v.daum.net/v/20201006111652121\n",
      "검찰, '검·언유착 오보 사건' 고발인 조사..수사 본격화-https://news.v.daum.net/v/20201006111642109\n",
      "멸종위기 동식물-https://gallery.v.daum.net/p/viewer/2332/\n",
      "정치의 현장-https://gallery.v.daum.net/p/viewer/1500/\n",
      "전국 화재사고-https://gallery.v.daum.net/p/viewer/1518/\n",
      "'코로나19' 바이러스-https://gallery.v.daum.net/p/viewer/5014013/\n",
      "1 위\n",
      "                            나발니 독살 시도, 보좌관 기지에 꼬리 잡혔다-https://news.v.daum.net/v/20201006105040603\n",
      "2 위\n",
      "                            반포3주구, 재초환 4억에 공사비 증액까지 '첩첩산중'-https://news.v.daum.net/v/20201006080304683\n",
      "3 위\n",
      "                            재건축 공사비 증액 놓고 곳곳서 시공사-조합 갈등-https://news.v.daum.net/v/20201006060142013\n",
      "4 위\n",
      "                            증평·진천·괴산·음성 중부4군, 인구순위 자존심 대결-https://news.v.daum.net/v/20201006105137663\n",
      "5 위\n",
      "                            택시 치고 행인 사망케 한 오토바이 운전자 법정구속 면해..왜?-https://news.v.daum.net/v/20201006060024893\n",
      "1 위\n",
      "                            장진영 \"강경화 남편, 4000평 저택이 답답? 서민은 얼마나 힘들까\"-https://news.v.daum.net/v/20201006062845337\n",
      "2 위\n",
      "                            北 피살 공무원 아들 편지에 형 \"가슴 미어져\"..文대통령 답할까-https://news.v.daum.net/v/20201006082859337\n",
      "3 위\n",
      "                            [단독] \"대통령님, 아빠 죽임당할때 뭘 했나요\" 高2 아들의 편지-https://news.v.daum.net/v/20201005214415309\n",
      "4 위\n",
      "                            [시선집중] 노웅래 \"손흥민은 되는데 BTS는 안되나? 딴따라로만 보나?\"-https://news.v.daum.net/v/20201006100036965\n",
      "5 위\n",
      "                            의사국시 '대리취소'에 국시원, 2천800명에 일일이 전화·환불-https://news.v.daum.net/v/20201006100348173\n",
      "[단독] 'BBQ 죽이기'에 BHC 회장부터 임직원까지 관여했다-https://v.daum.net/v/20201006043020980\n",
      "\"코로나 두려워말라\"며 마스크 벗은 트럼프..퇴원 일성부터 논란-https://v.daum.net/v/20201006093211614\n",
      "\"무슨 오전·오후반이냐\"..교육부 등교확대 방안에 학부모·교사 '반발'-https://v.daum.net/v/20201006094952475\n",
      "北 피살 공무원 아들 편지에 형 \"가슴 미어져\"..文대통령 답할까-https://v.daum.net/v/20201006082859337\n",
      "[시선집중] 노웅래 \"손흥민은 되는데 BTS는 안되나? 딴따라로만 보나?\"-https://v.daum.net/v/20201006100036965\n",
      "[단독] 인기 유튜버들 수익 첫 공개, 월평균 934만원 벌었다..직장인 3배-https://v.daum.net/v/20201006093903956\n",
      "中, \"미국 레드라인 넘고 있다..전쟁도 불사할 것\"-https://v.daum.net/v/20201006103144567\n",
      "의사국시 '대리취소'에 국시원, 2천800명에 일일이 전화·환불-https://v.daum.net/v/20201006100348173\n"
     ]
    }
   ],
   "source": [
    "#주요기사 div를 검색\n",
    "\n",
    "articles = soup.select(\"#mArticle\")[0]\n",
    "\n",
    "links = articles.select(\"a.link_txt\")\n",
    "#print(licks[0])\n",
    "#기사 목옥을 {\"link\":....\"title\": ....} 의 리스트\n",
    "\n",
    "news_list = []\n",
    "\n",
    "for link in links:\n",
    "#    print(link)\n",
    "    news = {\n",
    "        \"link\": link['href'],\n",
    "        \"title\": link.text.strip()\n",
    "    }\n",
    "    news_list.append(news)\n",
    "    \n",
    "#print(news_list)\n",
    "print(\"다음 뉴스 주요 기사:\")\n",
    "for news in news_list:\n",
    "    print(\"{}-{}\".format(news.get(\"title\"),news.get(\"link\")))"
   ]
  },
  {
   "cell_type": "code",
   "execution_count": null,
   "metadata": {},
   "outputs": [],
   "source": [
    "# 연습\n",
    "# 다음 뉴스 상단 div# cSub인 뉴스 수집"
   ]
  },
  {
   "cell_type": "code",
   "execution_count": 19,
   "metadata": {},
   "outputs": [],
   "source": [
    "# https://movie.naver.com/movie/running/current.nhn\n",
    "# 영화 순위를 수집\n",
    "req = urlopen(\"https://movie.naver.com/movie/running/current.nhn\")\n",
    "html_str = req.read().decode(\"utf-8\")\n",
    "# print(html_str[:256]) #html text"
   ]
  },
  {
   "cell_type": "code",
   "execution_count": 23,
   "metadata": {},
   "outputs": [],
   "source": [
    "# DOM 변환\n",
    "soup = BeautifulSoup(html_str, \"html.parser\")\n",
    "#print(soup.body)"
   ]
  },
  {
   "cell_type": "code",
   "execution_count": 28,
   "metadata": {},
   "outputs": [
    {
     "name": "stdout",
     "output_type": "stream",
     "text": [
      "[{'title': '담보', 'link': '/movie/bi/mi/basic.nhn?code=183866'}, {'title': '국제수사', 'link': '/movie/bi/mi/basic.nhn?code=175393'}, {'title': '그린랜드', 'link': '/movie/bi/mi/basic.nhn?code=195983'}, {'title': '테넷', 'link': '/movie/bi/mi/basic.nhn?code=190010'}, {'title': '극장판 포켓몬스터 뮤츠의 역습 EVOLUTION', 'link': '/movie/bi/mi/basic.nhn?code=187305'}, {'title': '극장판 미니특공대: 햄버거괴물의 습격', 'link': '/movie/bi/mi/basic.nhn?code=196839'}, {'title': '죽지않는 인간들의 밤', 'link': '/movie/bi/mi/basic.nhn?code=183854'}, {'title': '검객', 'link': '/movie/bi/mi/basic.nhn?code=165287'}, {'title': '브레이크 더 사일런스: 더 무비', 'link': '/movie/bi/mi/basic.nhn?code=195975'}, {'title': '극장판 엉덩이 탐정: 텐텐마을의 수수께끼', 'link': '/movie/bi/mi/basic.nhn?code=196859'}, {'title': '뮬란', 'link': '/movie/bi/mi/basic.nhn?code=167491'}, {'title': '해수의 아이', 'link': '/movie/bi/mi/basic.nhn?code=186110'}, {'title': '아웃포스트', 'link': '/movie/bi/mi/basic.nhn?code=195450'}, {'title': '디바', 'link': '/movie/bi/mi/basic.nhn?code=177039'}, {'title': '마르지엘라', 'link': '/movie/bi/mi/basic.nhn?code=192883'}, {'title': '기기괴괴 성형수', 'link': '/movie/bi/mi/basic.nhn?code=194644'}, {'title': '강철비2: 정상회담', 'link': '/movie/bi/mi/basic.nhn?code=188909'}, {'title': '남매의 여름밤', 'link': '/movie/bi/mi/basic.nhn?code=189623'}, {'title': '오! 문희', 'link': '/movie/bi/mi/basic.nhn?code=179859'}, {'title': '프란시스 하', 'link': '/movie/bi/mi/basic.nhn?code=98738'}, {'title': '교실 안의 야크', 'link': '/movie/bi/mi/basic.nhn?code=189393'}, {'title': '도망친 여자', 'link': '/movie/bi/mi/basic.nhn?code=192191'}, {'title': '우리가 이별 뒤에 알게 되는 것들', 'link': '/movie/bi/mi/basic.nhn?code=188465'}, {'title': '카일라스 가는 길', 'link': '/movie/bi/mi/basic.nhn?code=178687'}, {'title': '보테로', 'link': '/movie/bi/mi/basic.nhn?code=180264'}, {'title': '다시 만난 날들', 'link': '/movie/bi/mi/basic.nhn?code=195690'}, {'title': '테스와 보낸 여름', 'link': '/movie/bi/mi/basic.nhn?code=183278'}, {'title': '공포분자', 'link': '/movie/bi/mi/basic.nhn?code=31130'}, {'title': '소년시절의 너', 'link': '/movie/bi/mi/basic.nhn?code=192066'}, {'title': '다만 악에서 구하소서', 'link': '/movie/bi/mi/basic.nhn?code=189069'}, {'title': '드라이브', 'link': '/movie/bi/mi/basic.nhn?code=80466'}, {'title': '극장판 짱구는 못말려: 신혼여행 허리케인~ 사라진 아빠!', 'link': '/movie/bi/mi/basic.nhn?code=183772'}, {'title': '후쿠오카', 'link': '/movie/bi/mi/basic.nhn?code=182353'}, {'title': '69세', 'link': '/movie/bi/mi/basic.nhn?code=189373'}, {'title': '나를 구하지 마세요', 'link': '/movie/bi/mi/basic.nhn?code=193330'}, {'title': '마티아스와 막심', 'link': '/movie/bi/mi/basic.nhn?code=185273'}, {'title': '낙엽귀근', 'link': '/movie/bi/mi/basic.nhn?code=66320'}, {'title': '워터 릴리스', 'link': '/movie/bi/mi/basic.nhn?code=67457'}, {'title': '극장판 시로바코', 'link': '/movie/bi/mi/basic.nhn?code=192612'}, {'title': '동아시아반일무장전선', 'link': '/movie/bi/mi/basic.nhn?code=185139'}, {'title': '하워즈 엔드', 'link': '/movie/bi/mi/basic.nhn?code=13636'}, {'title': '보리밭을 흔드는 바람', 'link': '/movie/bi/mi/basic.nhn?code=49380'}, {'title': '타샤 튜더', 'link': '/movie/bi/mi/basic.nhn?code=177335'}, {'title': '너의 이름은.', 'link': '/movie/bi/mi/basic.nhn?code=150198'}, {'title': '마음 울적한 날엔', 'link': '/movie/bi/mi/basic.nhn?code=195652'}, {'title': '천국보다 낯선', 'link': '/movie/bi/mi/basic.nhn?code=10624'}, {'title': '고령가 소년 살인사건', 'link': '/movie/bi/mi/basic.nhn?code=10922'}, {'title': '타오르는 여인의 초상', 'link': '/movie/bi/mi/basic.nhn?code=185282'}, {'title': '타이페이 스토리', 'link': '/movie/bi/mi/basic.nhn?code=10676'}, {'title': '비독: 파리의 황제', 'link': '/movie/bi/mi/basic.nhn?code=182793'}, {'title': '루스 베이더 긴즈버그 : 나는 반대한다', 'link': '/movie/bi/mi/basic.nhn?code=172605'}, {'title': '날씨의 아이', 'link': '/movie/bi/mi/basic.nhn?code=181114'}, {'title': '반교: 디텐션', 'link': '/movie/bi/mi/basic.nhn?code=189618'}, {'title': '이십일세기 소녀', 'link': '/movie/bi/mi/basic.nhn?code=186487'}, {'title': '블레이드 러너 2049', 'link': '/movie/bi/mi/basic.nhn?code=88227'}, {'title': '하얀 리본', 'link': '/movie/bi/mi/basic.nhn?code=52983'}, {'title': '경계선', 'link': '/movie/bi/mi/basic.nhn?code=175045'}, {'title': '스파이더맨: 뉴 유니버스', 'link': '/movie/bi/mi/basic.nhn?code=171725'}, {'title': '구르는 수레바퀴', 'link': '/movie/bi/mi/basic.nhn?code=189440'}, {'title': '소년 아메드', 'link': '/movie/bi/mi/basic.nhn?code=185269'}, {'title': '백년의 기억', 'link': '/movie/bi/mi/basic.nhn?code=188162'}, {'title': '에이바', 'link': '/movie/bi/mi/basic.nhn?code=195377'}, {'title': '치어리딩 클럽', 'link': '/movie/bi/mi/basic.nhn?code=183116'}, {'title': '퍼스널 쇼퍼', 'link': '/movie/bi/mi/basic.nhn?code=144221'}, {'title': '500일의 썸머', 'link': '/movie/bi/mi/basic.nhn?code=53152'}, {'title': '걸작', 'link': '/movie/bi/mi/basic.nhn?code=182642'}, {'title': '디트로이트', 'link': '/movie/bi/mi/basic.nhn?code=152689'}, {'title': '라붐', 'link': '/movie/bi/mi/basic.nhn?code=10117'}, {'title': '레이디 버드', 'link': '/movie/bi/mi/basic.nhn?code=158611'}, {'title': '브리짓 존스의 일기', 'link': '/movie/bi/mi/basic.nhn?code=31565'}, {'title': '사랑과 영혼', 'link': '/movie/bi/mi/basic.nhn?code=10173'}, {'title': '사랑하는 시바여 돌아오라', 'link': '/movie/bi/mi/basic.nhn?code=30335'}, {'title': '샤인', 'link': '/movie/bi/mi/basic.nhn?code=17970'}, {'title': '셰이프 오브 뮤직: 알렉상드르 데스플라', 'link': '/movie/bi/mi/basic.nhn?code=177608'}, {'title': '스프링 브레이커스', 'link': '/movie/bi/mi/basic.nhn?code=92005'}, {'title': '십계', 'link': '/movie/bi/mi/basic.nhn?code=10064'}, {'title': '아이 캔 온리 이매진', 'link': '/movie/bi/mi/basic.nhn?code=169647'}, {'title': '알제리 전투', 'link': '/movie/bi/mi/basic.nhn?code=10378'}, {'title': '제로 다크 서티', 'link': '/movie/bi/mi/basic.nhn?code=85141'}, {'title': '제리 맥과이어', 'link': '/movie/bi/mi/basic.nhn?code=17942'}, {'title': '톰보이', 'link': '/movie/bi/mi/basic.nhn?code=85825'}, {'title': '트립 투 이탈리아', 'link': '/movie/bi/mi/basic.nhn?code=119272'}, {'title': '피아니스트', 'link': '/movie/bi/mi/basic.nhn?code=35187'}, {'title': '거룩한 분노', 'link': '/movie/bi/mi/basic.nhn?code=162098'}, {'title': '다운폴', 'link': '/movie/bi/mi/basic.nhn?code=39462'}, {'title': '닥터 슬립', 'link': '/movie/bi/mi/basic.nhn?code=185912'}, {'title': '더 파티', 'link': '/movie/bi/mi/basic.nhn?code=159110'}, {'title': '미스 사이공: 25주년 특별 공연', 'link': '/movie/bi/mi/basic.nhn?code=155123'}, {'title': '베를린 천사의 시', 'link': '/movie/bi/mi/basic.nhn?code=10568'}, {'title': '분노의 질주: 홉스&쇼', 'link': '/movie/bi/mi/basic.nhn?code=182355'}, {'title': '비투스', 'link': '/movie/bi/mi/basic.nhn?code=62390'}, {'title': '영원과 하루', 'link': '/movie/bi/mi/basic.nhn?code=21133'}, {'title': '위대한 쇼맨', 'link': '/movie/bi/mi/basic.nhn?code=106360'}, {'title': '쥬만지: 넥스트 레벨', 'link': '/movie/bi/mi/basic.nhn?code=187349'}, {'title': '포드 V 페라리', 'link': '/movie/bi/mi/basic.nhn?code=181710'}]\n",
      "네이버 영화 순위\n",
      "1위 - 담보 : /movie/bi/mi/basic.nhn?code=183866\n",
      "2위 - 국제수사 : /movie/bi/mi/basic.nhn?code=175393\n",
      "3위 - 그린랜드 : /movie/bi/mi/basic.nhn?code=195983\n",
      "4위 - 테넷 : /movie/bi/mi/basic.nhn?code=190010\n",
      "5위 - 극장판 포켓몬스터 뮤츠의 역습 EVOLUTION : /movie/bi/mi/basic.nhn?code=187305\n",
      "6위 - 극장판 미니특공대: 햄버거괴물의 습격 : /movie/bi/mi/basic.nhn?code=196839\n",
      "7위 - 죽지않는 인간들의 밤 : /movie/bi/mi/basic.nhn?code=183854\n",
      "8위 - 검객 : /movie/bi/mi/basic.nhn?code=165287\n",
      "9위 - 브레이크 더 사일런스: 더 무비 : /movie/bi/mi/basic.nhn?code=195975\n",
      "10위 - 극장판 엉덩이 탐정: 텐텐마을의 수수께끼 : /movie/bi/mi/basic.nhn?code=196859\n",
      "11위 - 뮬란 : /movie/bi/mi/basic.nhn?code=167491\n",
      "12위 - 해수의 아이 : /movie/bi/mi/basic.nhn?code=186110\n",
      "13위 - 아웃포스트 : /movie/bi/mi/basic.nhn?code=195450\n",
      "14위 - 디바 : /movie/bi/mi/basic.nhn?code=177039\n",
      "15위 - 마르지엘라 : /movie/bi/mi/basic.nhn?code=192883\n",
      "16위 - 기기괴괴 성형수 : /movie/bi/mi/basic.nhn?code=194644\n",
      "17위 - 강철비2: 정상회담 : /movie/bi/mi/basic.nhn?code=188909\n",
      "18위 - 남매의 여름밤 : /movie/bi/mi/basic.nhn?code=189623\n",
      "19위 - 오! 문희 : /movie/bi/mi/basic.nhn?code=179859\n",
      "20위 - 프란시스 하 : /movie/bi/mi/basic.nhn?code=98738\n",
      "21위 - 교실 안의 야크 : /movie/bi/mi/basic.nhn?code=189393\n",
      "22위 - 도망친 여자 : /movie/bi/mi/basic.nhn?code=192191\n",
      "23위 - 우리가 이별 뒤에 알게 되는 것들 : /movie/bi/mi/basic.nhn?code=188465\n",
      "24위 - 카일라스 가는 길 : /movie/bi/mi/basic.nhn?code=178687\n",
      "25위 - 보테로 : /movie/bi/mi/basic.nhn?code=180264\n",
      "26위 - 다시 만난 날들 : /movie/bi/mi/basic.nhn?code=195690\n",
      "27위 - 테스와 보낸 여름 : /movie/bi/mi/basic.nhn?code=183278\n",
      "28위 - 공포분자 : /movie/bi/mi/basic.nhn?code=31130\n",
      "29위 - 소년시절의 너 : /movie/bi/mi/basic.nhn?code=192066\n",
      "30위 - 다만 악에서 구하소서 : /movie/bi/mi/basic.nhn?code=189069\n",
      "31위 - 드라이브 : /movie/bi/mi/basic.nhn?code=80466\n",
      "32위 - 극장판 짱구는 못말려: 신혼여행 허리케인~ 사라진 아빠! : /movie/bi/mi/basic.nhn?code=183772\n",
      "33위 - 후쿠오카 : /movie/bi/mi/basic.nhn?code=182353\n",
      "34위 - 69세 : /movie/bi/mi/basic.nhn?code=189373\n",
      "35위 - 나를 구하지 마세요 : /movie/bi/mi/basic.nhn?code=193330\n",
      "36위 - 마티아스와 막심 : /movie/bi/mi/basic.nhn?code=185273\n",
      "37위 - 낙엽귀근 : /movie/bi/mi/basic.nhn?code=66320\n",
      "38위 - 워터 릴리스 : /movie/bi/mi/basic.nhn?code=67457\n",
      "39위 - 극장판 시로바코 : /movie/bi/mi/basic.nhn?code=192612\n",
      "40위 - 동아시아반일무장전선 : /movie/bi/mi/basic.nhn?code=185139\n",
      "41위 - 하워즈 엔드 : /movie/bi/mi/basic.nhn?code=13636\n",
      "42위 - 보리밭을 흔드는 바람 : /movie/bi/mi/basic.nhn?code=49380\n",
      "43위 - 타샤 튜더 : /movie/bi/mi/basic.nhn?code=177335\n",
      "44위 - 너의 이름은. : /movie/bi/mi/basic.nhn?code=150198\n",
      "45위 - 마음 울적한 날엔 : /movie/bi/mi/basic.nhn?code=195652\n",
      "46위 - 천국보다 낯선 : /movie/bi/mi/basic.nhn?code=10624\n",
      "47위 - 고령가 소년 살인사건 : /movie/bi/mi/basic.nhn?code=10922\n",
      "48위 - 타오르는 여인의 초상 : /movie/bi/mi/basic.nhn?code=185282\n",
      "49위 - 타이페이 스토리 : /movie/bi/mi/basic.nhn?code=10676\n",
      "50위 - 비독: 파리의 황제 : /movie/bi/mi/basic.nhn?code=182793\n",
      "51위 - 루스 베이더 긴즈버그 : 나는 반대한다 : /movie/bi/mi/basic.nhn?code=172605\n",
      "52위 - 날씨의 아이 : /movie/bi/mi/basic.nhn?code=181114\n",
      "53위 - 반교: 디텐션 : /movie/bi/mi/basic.nhn?code=189618\n",
      "54위 - 이십일세기 소녀 : /movie/bi/mi/basic.nhn?code=186487\n",
      "55위 - 블레이드 러너 2049 : /movie/bi/mi/basic.nhn?code=88227\n",
      "56위 - 하얀 리본 : /movie/bi/mi/basic.nhn?code=52983\n",
      "57위 - 경계선 : /movie/bi/mi/basic.nhn?code=175045\n",
      "58위 - 스파이더맨: 뉴 유니버스 : /movie/bi/mi/basic.nhn?code=171725\n",
      "59위 - 구르는 수레바퀴 : /movie/bi/mi/basic.nhn?code=189440\n",
      "60위 - 소년 아메드 : /movie/bi/mi/basic.nhn?code=185269\n",
      "61위 - 백년의 기억 : /movie/bi/mi/basic.nhn?code=188162\n",
      "62위 - 에이바 : /movie/bi/mi/basic.nhn?code=195377\n",
      "63위 - 치어리딩 클럽 : /movie/bi/mi/basic.nhn?code=183116\n",
      "64위 - 퍼스널 쇼퍼 : /movie/bi/mi/basic.nhn?code=144221\n",
      "65위 - 500일의 썸머 : /movie/bi/mi/basic.nhn?code=53152\n",
      "66위 - 걸작 : /movie/bi/mi/basic.nhn?code=182642\n",
      "67위 - 디트로이트 : /movie/bi/mi/basic.nhn?code=152689\n",
      "68위 - 라붐 : /movie/bi/mi/basic.nhn?code=10117\n",
      "69위 - 레이디 버드 : /movie/bi/mi/basic.nhn?code=158611\n",
      "70위 - 브리짓 존스의 일기 : /movie/bi/mi/basic.nhn?code=31565\n",
      "71위 - 사랑과 영혼 : /movie/bi/mi/basic.nhn?code=10173\n",
      "72위 - 사랑하는 시바여 돌아오라 : /movie/bi/mi/basic.nhn?code=30335\n",
      "73위 - 샤인 : /movie/bi/mi/basic.nhn?code=17970\n",
      "74위 - 셰이프 오브 뮤직: 알렉상드르 데스플라 : /movie/bi/mi/basic.nhn?code=177608\n",
      "75위 - 스프링 브레이커스 : /movie/bi/mi/basic.nhn?code=92005\n",
      "76위 - 십계 : /movie/bi/mi/basic.nhn?code=10064\n",
      "77위 - 아이 캔 온리 이매진 : /movie/bi/mi/basic.nhn?code=169647\n",
      "78위 - 알제리 전투 : /movie/bi/mi/basic.nhn?code=10378\n",
      "79위 - 제로 다크 서티 : /movie/bi/mi/basic.nhn?code=85141\n",
      "80위 - 제리 맥과이어 : /movie/bi/mi/basic.nhn?code=17942\n",
      "81위 - 톰보이 : /movie/bi/mi/basic.nhn?code=85825\n",
      "82위 - 트립 투 이탈리아 : /movie/bi/mi/basic.nhn?code=119272\n",
      "83위 - 피아니스트 : /movie/bi/mi/basic.nhn?code=35187\n",
      "84위 - 거룩한 분노 : /movie/bi/mi/basic.nhn?code=162098\n",
      "85위 - 다운폴 : /movie/bi/mi/basic.nhn?code=39462\n",
      "86위 - 닥터 슬립 : /movie/bi/mi/basic.nhn?code=185912\n",
      "87위 - 더 파티 : /movie/bi/mi/basic.nhn?code=159110\n",
      "88위 - 미스 사이공: 25주년 특별 공연 : /movie/bi/mi/basic.nhn?code=155123\n",
      "89위 - 베를린 천사의 시 : /movie/bi/mi/basic.nhn?code=10568\n",
      "90위 - 분노의 질주: 홉스&쇼 : /movie/bi/mi/basic.nhn?code=182355\n",
      "91위 - 비투스 : /movie/bi/mi/basic.nhn?code=62390\n",
      "92위 - 영원과 하루 : /movie/bi/mi/basic.nhn?code=21133\n",
      "93위 - 위대한 쇼맨 : /movie/bi/mi/basic.nhn?code=106360\n",
      "94위 - 쥬만지: 넥스트 레벨 : /movie/bi/mi/basic.nhn?code=187349\n",
      "95위 - 포드 V 페라리 : /movie/bi/mi/basic.nhn?code=181710\n"
     ]
    }
   ],
   "source": [
    "# ul .lst_detail_t1\n",
    "current_movies = soup.select(\"ul.lst_detail_t1 > li\")\n",
    "# class=lst_detail_t1인 ul의 자식인 li 태그들\n",
    "#print(current_movies)\n",
    "\n",
    "#영화 세부 정보 검색\n",
    "movie_list = []\n",
    "\n",
    "for movie in current_movies: # li\n",
    "    titles = movie.select(\"dl.lst_dsc>.tit >a\")[0]\n",
    "    \n",
    "    info = {\"title\":titles.text.strip(), \"link\":titles ['href']}\n",
    "    movie_list.append(info)\n",
    "\n",
    "print(movie_list)\n",
    "\n",
    "#print(movie_list)\n",
    "\n",
    "print(\"네이버 영화 순위\")\n",
    "\n",
    "for rank, info in enumerate(movie_list):\n",
    "    print(\"{}위 - {} : {}\".format(rank+1, info['title'], info['link']))\n",
    "    \n",
    "    \n",
    "\n",
    "    \n",
    "    "
   ]
  },
  {
   "cell_type": "code",
   "execution_count": 35,
   "metadata": {},
   "outputs": [
    {
     "name": "stdout",
     "output_type": "stream",
     "text": [
      "...............................................................................................Download Complete\n"
     ]
    }
   ],
   "source": [
    "# 이미지 다운로드\n",
    "# \"ul.lst_detail_t1 > li\" -> img\n",
    "# img 태그의 속성 src, alt (대체 텍스트)\n",
    "# 저장 디렉터리 확인\n",
    "import os\n",
    "import re # 정규표현식\n",
    "from urllib.request import urlretrieve\n",
    "\n",
    "if not os.path.exists(\"d:/data-science/crawl\"): #디렉토리 없으면\n",
    "    os.makedirs(\"d:/data-science/crawl\") # 생성\n",
    "    \n",
    "for movies in current_movies:\n",
    "    img_tag = movies.select(\"img\")[0]\n",
    "#    print(\"포스터:\", img_tag)\n",
    "#    print(\"src:\", img_tag['src'])\n",
    "#    print(\"alt:\", img_tag['alt'])\n",
    " # 파일멸으로 사용할 수 없는 문자를 제거\n",
    "    title = img_tag['alt']\n",
    "    title = re.sub(r\"[\\/:*?<>|.]\",\"-\",title.strip())\n",
    "#    print(\"정제된 제목: \", title)\n",
    "    src = img_tag['src'] # 이미지 주소\n",
    "    target = \"d:/data-science/crawl/{}.jpg\".format(title)\n",
    "    \n",
    "    #이미지 다운로드 : urlretrieve\n",
    "    urlretrieve(src,target)\n",
    "    print(\".\", end=\"\")\n",
    "else:\n",
    "    print(\"Download Complete\")"
   ]
  },
  {
   "cell_type": "code",
   "execution_count": 40,
   "metadata": {},
   "outputs": [
    {
     "name": "stdout",
     "output_type": "stream",
     "text": [
      "\r\n",
      "\r\n",
      "\r\n",
      "\r\n",
      "\r\n",
      "\r\n",
      "\r\n",
      "\r\n",
      "\r\n",
      "\t\r\n",
      "\t\r\n",
      "\t\r\n",
      "\t\r\n",
      "\t\r\n",
      "\t\r\n",
      "\r\n",
      "<!DOCTYPE html>\r\n",
      "<html lang=\"ko\">\r\n",
      "<head>\r\n",
      "<meta charset=\"utf-8\">\r\n",
      "<meta http-equiv=\"X-UA-Compatible\" content=\"IE=edge\">\r\n",
      "<meta http-equiv=\"imagetoolbar\" content=\"no\">\r\n",
      "<title>개봉 예정영화 : 네이버 영화</title>\r\n",
      "\r\n",
      "\t\r\n",
      "\t\r\n",
      "\t\r\n",
      "\t\r\n",
      "\t\r\n"
     ]
    }
   ],
   "source": [
    "# 연습문제\n",
    "# https://movie.naver.com/movie/running/premovie.nhn\n",
    "# 개봉예정 영화 정보를 수집해 봅시다.\n",
    "# 개봉예정 영화 순서\n",
    "req1 = urlopen(\"https://movie.naver.com/movie/running/premovie.nhn\")\n",
    "html_str1 = req1.read().decode(\"utf-8\")\n",
    "print(html_str1[:256]) #html text"
   ]
  },
  {
   "cell_type": "code",
   "execution_count": null,
   "metadata": {},
   "outputs": [],
   "source": []
  }
 ],
 "metadata": {
  "kernelspec": {
   "display_name": "Python 3",
   "language": "python",
   "name": "python3"
  },
  "language_info": {
   "codemirror_mode": {
    "name": "ipython",
    "version": 3
   },
   "file_extension": ".py",
   "mimetype": "text/x-python",
   "name": "python",
   "nbconvert_exporter": "python",
   "pygments_lexer": "ipython3",
   "version": "3.7.3"
  }
 },
 "nbformat": 4,
 "nbformat_minor": 4
}
